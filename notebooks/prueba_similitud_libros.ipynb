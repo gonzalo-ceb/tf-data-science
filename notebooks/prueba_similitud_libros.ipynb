{
 "cells": [
  {
   "cell_type": "code",
   "execution_count": 6,
   "id": "e8a4f30b-d620-4fe0-8016-d723a376e398",
   "metadata": {},
   "outputs": [],
   "source": [
    "import pandas as pd\n",
    "from sklearn.metrics.pairwise import cosine_similarity"
   ]
  },
  {
   "cell_type": "code",
   "execution_count": 7,
   "id": "0922f4e6-2aae-4a4f-b3a8-91ae78dcd0a1",
   "metadata": {},
   "outputs": [],
   "source": [
    "# IMPORTAMOS LOS DF\n",
    "train = pd.read_csv('../data/train.csv')\n",
    "test = pd.read_csv('../data/test.csv')"
   ]
  },
  {
   "cell_type": "code",
   "execution_count": 18,
   "id": "33fc8c27-e6b3-4098-b858-4fc1a1c0c367",
   "metadata": {},
   "outputs": [
    {
     "name": "stdout",
     "output_type": "stream",
     "text": [
      "rating                     float64\n",
      "about                      float64\n",
      "all                        float64\n",
      "amazing                    float64\n",
      "an                         float64\n",
      "                            ...   \n",
      "genre_Self Help              int64\n",
      "genre_Self-improvement       int64\n",
      "genre_Spiritual Warfare      int64\n",
      "genre_Spirituality           int64\n",
      "genre_Thriller               int64\n",
      "Length: 268, dtype: object\n"
     ]
    },
    {
     "name": "stderr",
     "output_type": "stream",
     "text": [
      "C:\\Users\\Sandra\\AppData\\Local\\Temp\\ipykernel_8632\\306941180.py:10: SettingWithCopyWarning: \n",
      "A value is trying to be set on a copy of a slice from a DataFrame.\n",
      "Try using .loc[row_indexer,col_indexer] = value instead\n",
      "\n",
      "See the caveats in the documentation: https://pandas.pydata.org/pandas-docs/stable/user_guide/indexing.html#returning-a-view-versus-a-copy\n",
      "  similarity_data[boolean_columns] = similarity_data[boolean_columns].astype(int)\n"
     ]
    }
   ],
   "source": [
    "# COLUMNAS CON CARACTERÍSTICAS DEL LIBRO\n",
    "tfidf_columns = [col for col in train.columns if col not in genre_columns]\n",
    "tfidf_columns = [col for col in tfidf_columns if col.isalpha()]\n",
    "genre_columns = [col for col in train.columns if col.startswith('genre_')]\n",
    "\n",
    "similarity_data = train[tfidf_columns + genre_columns]\n",
    "\n",
    "# BOOLEANOS A INT\n",
    "boolean_columns = similarity_data.select_dtypes(include=['bool']).columns.tolist()\n",
    "similarity_data[boolean_columns] = similarity_data[boolean_columns].astype(int)\n",
    "\n",
    "similarity_data = similarity_data.drop(columns=['reviewer'], errors='ignore')\n",
    "\n",
    "print(similarity_data.dtypes)\n"
   ]
  },
  {
   "cell_type": "code",
   "execution_count": 19,
   "id": "12899bea-8cc2-4fd8-bb37-227238693ec5",
   "metadata": {},
   "outputs": [
    {
     "name": "stdout",
     "output_type": "stream",
     "text": [
      "[[ 1.          0.59040327  0.59040327 -0.23206964 -0.23206964]\n",
      " [ 0.59040327  1.          0.59040327 -0.23206964 -0.23206964]\n",
      " [ 0.59040327  0.59040327  1.         -0.23206964 -0.23206964]\n",
      " [-0.23206964 -0.23206964 -0.23206964  1.          0.76791622]\n",
      " [-0.23206964 -0.23206964 -0.23206964  0.76791622  1.        ]]\n"
     ]
    }
   ],
   "source": [
    "# SIMILITUD DE COSENO ENTRE LIBROS\n",
    "cosine_sim = cosine_similarity(similarity_data)\n",
    "print(cosine_sim[:5, :5])"
   ]
  },
  {
   "cell_type": "code",
   "execution_count": 31,
   "id": "e73022e2-b668-4881-be71-22eb901266a1",
   "metadata": {},
   "outputs": [
    {
     "name": "stdout",
     "output_type": "stream",
     "text": [
      "Libros recomendados:\n",
      "['The Psychology of Money: Timeless lessons on wealth, greed, and happiness', 'I Am Thankful: A Thanksgiving Book for Kids', 'Llama Llama Gives Thanks', 'The Coworker', 'If Animals Kissed Good Night']\n"
     ]
    }
   ],
   "source": [
    "# FUNCIÓN PARA RECOMENDAR LIBROS\n",
    "def recommend_books(book_title, train_df, cosine_sim_matrix, num_recommendations=5):\n",
    "    \n",
    "    book_index = train_df[train_df['book_title'] == book_title].index[0]\n",
    "    \n",
    "    # OBTIENE PUNTUACIONES SIMILARES\n",
    "    sim_scores = list(enumerate(cosine_sim_matrix[book_index]))\n",
    "    \n",
    "    # ORDENA DE MAYOR A MENOR\n",
    "    sim_scores = sorted(sim_scores, key=lambda x: x[1], reverse=True)\n",
    "\n",
    "    # EVITA DUPLICADOS EL SET\n",
    "    unique_recommendations = set()\n",
    "    \n",
    "    for i in range(1, len(sim_scores)):\n",
    "        book_idx = sim_scores[i][0]  \n",
    "        recommended_title = train_df['book_title'].iloc[book_idx]  \n",
    "\n",
    "        if recommended_title != book_title and recommended_title not in unique_recommendations:\n",
    "            unique_recommendations.add(recommended_title)\n",
    "            \n",
    "        if len(unique_recommendations) >= num_recommendations:\n",
    "            break\n",
    "\n",
    "    return list(unique_recommendations)[:num_recommendations]\n",
    "\n",
    "# EJEMPLO\n",
    "book_to_recommend = 'Just Because'\n",
    "if book_to_recommend in train['book_title'].values:\n",
    "    recommendations = recommend_books(book_to_recommend, train, cosine_sim, num_recommendations=5)\n",
    "    print(\"Libros recomendados:\")\n",
    "    print(recommendations)\n",
    "else:\n",
    "    print(f\"El libro '{book_to_recommend}' no se encontró en el DataFrame.\")"
   ]
  },
  {
   "cell_type": "code",
   "execution_count": 34,
   "id": "c3acc165-e5ba-4e3b-8936-bdb090e8b4e0",
   "metadata": {},
   "outputs": [
    {
     "name": "stdout",
     "output_type": "stream",
     "text": [
      "Libro: \"The Psychology of Money: Timeless lessons on wealth, greed, and happiness\" - Géneros: ['genre_ Childrens', 'genre_ Holiday', 'genre_Picture Books']\n",
      "Libro: \"I Am Thankful: A Thanksgiving Book for Kids\" - Géneros: ['genre_ Childrens', 'genre_Picture Books']\n",
      "Libro: \"Llama Llama Gives Thanks\" - Géneros: ['genre_ Animals', 'genre_ Childrens', 'genre_ Holiday', 'genre_ Kids Fiction', 'genre_Picture Books']\n",
      "Libro: \"The Coworker\" - Géneros: ['genre_ Mystery', 'genre_Thriller']\n",
      "Libro: \"If Animals Kissed Good Night\" - Géneros: ['genre_ Animals', 'genre_ Childrens', 'genre_ Family', 'genre_ Fiction', 'genre_ Poetry', 'genre_ Storytime', 'genre_Picture Books']\n"
     ]
    }
   ],
   "source": [
    "recommended_books = [\n",
    "    'The Psychology of Money: Timeless lessons on wealth, greed, and happiness',\n",
    "    'I Am Thankful: A Thanksgiving Book for Kids',\n",
    "    'Llama Llama Gives Thanks',\n",
    "    'The Coworker',\n",
    "    'If Animals Kissed Good Night'\n",
    "]\n",
    "\n",
    "# Filtrar el DataFrame para encontrar los géneros de los libros recomendados\n",
    "genres_list = []\n",
    "\n",
    "for book in recommended_books:\n",
    "    # Filtrar el DataFrame para el libro actual\n",
    "    book_genres = train[train['book_title'] == book]\n",
    "    \n",
    "    # Obtener los géneros\n",
    "    if not book_genres.empty:\n",
    "        # Extraer géneros de las columnas de género (ejemplo: genre_Self Help, genre_Fiction, etc.)\n",
    "        genres = book_genres.filter(like='genre_').any().index[book_genres.filter(like='genre_').any()].tolist()\n",
    "        genres_list.append((book, genres))\n",
    "\n",
    "# Mostrar los géneros de cada libro recomendado\n",
    "for book, genres in genres_list:\n",
    "    print(f'Libro: \"{book}\" - Géneros: {genres}')"
   ]
  },
  {
   "cell_type": "code",
   "execution_count": null,
   "id": "f0e992c5-3e1f-44ae-b2a3-1ceede18e0fc",
   "metadata": {},
   "outputs": [],
   "source": []
  }
 ],
 "metadata": {
  "kernelspec": {
   "display_name": "Python 3 (ipykernel)",
   "language": "python",
   "name": "python3"
  },
  "language_info": {
   "codemirror_mode": {
    "name": "ipython",
    "version": 3
   },
   "file_extension": ".py",
   "mimetype": "text/x-python",
   "name": "python",
   "nbconvert_exporter": "python",
   "pygments_lexer": "ipython3",
   "version": "3.12.0"
  }
 },
 "nbformat": 4,
 "nbformat_minor": 5
}
